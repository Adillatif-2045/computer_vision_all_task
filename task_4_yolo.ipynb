{
 "cells": [
  {
   "cell_type": "code",
   "execution_count": 1,
   "id": "d7739883",
   "metadata": {},
   "outputs": [],
   "source": [
    "import numpy as np\n",
    "import pandas as pd\n",
    "from PIL import Image\n",
    "import matplotlib.pyplot as plt\n",
    "from PIL import Image, ImageDraw\n",
    "import random\n",
    "import os\n",
    "import json\n",
    "import cv2 \n",
    "import copy\n",
    "\n",
    "import matplotlib.patches as patches"
   ]
  },
  {
   "cell_type": "code",
   "execution_count": 2,
   "id": "1f172acd",
   "metadata": {},
   "outputs": [
    {
     "name": "stdout",
     "output_type": "stream",
     "text": [
      "annotations_file is appended successfully\n"
     ]
    }
   ],
   "source": [
    "class_names=['cat','dog']\n",
    "with open('cat_dog_annotations.json', 'r') as f:\n",
    "    json_dict = json.load(f)\n",
    "json_dict.keys()\n",
    "data=json_dict[\"_via_img_metadata\"].values()\n",
    "# Process the images and regions\n",
    "\n",
    "annotations = []\n",
    "for image in data:\n",
    "    filename = image[\"filename\"]\n",
    "    width, height = None, None\n",
    "    with Image.open(filename) as img:\n",
    "        width, height = img.size\n",
    "    for region in image[\"regions\"]:\n",
    "        class_name = list(region[\"region_attributes\"][\"class\"].keys())[0]\n",
    "        x, y, w, h = region[\"shape_attributes\"][\"x\"], region[\"shape_attributes\"][\"y\"], region[\"shape_attributes\"][\"width\"], region[\"shape_attributes\"][\"height\"]\n",
    "        center_x = (x + w/2) / width\n",
    "        center_y = (y + h/2) / height\n",
    "        norm_w = w / width\n",
    "        norm_h = h / height\n",
    "        class_id = class_names.index(class_name)\n",
    "        annotations.append(f\"{class_id} {center_x} {center_y} {norm_w} {norm_h}\\n\")\n",
    "print(\"annotations_file is appended successfully\")\n",
    "\n"
   ]
  },
  {
   "cell_type": "code",
   "execution_count": 3,
   "id": "8748ea52",
   "metadata": {},
   "outputs": [
    {
     "name": "stdout",
     "output_type": "stream",
     "text": [
      "annotations.txt is created successfully and saved in current directory\n",
      "\n",
      "label.txt is created successfully and saved in current directory\n"
     ]
    }
   ],
   "source": [
    "# Step 5: Save the YOLO formatted annotations and labels\n",
    "with open(\"annotations.txt\", \"w\") as f:\n",
    "    f.writelines(annotations)\n",
    "print(\"annotations.txt is created successfully and saved in current directory\\n\")\n",
    "with open(\"labels.txt\", \"w\") as f:\n",
    "    f.writelines(\"\\n\".join(class_names))\n",
    "print(\"label.txt is created successfully and saved in current directory\")"
   ]
  },
  {
   "cell_type": "code",
   "execution_count": 4,
   "id": "9c227212",
   "metadata": {},
   "outputs": [],
   "source": [
    "input_dir=\"images/\"\n",
    "output_dir=\"resized_img/\"\n",
    "\n",
    "size=3    \n",
    "# Create a labels file\n",
    "labels_file = open(os.path.join(output_dir, \"labels.txt\"), \"w\")\n",
    "\n",
    "for filename in os.listdir(input_dir):\n",
    "    img=Image.open(os.path.join(input_dir,filename))\n",
    "    img.save(os.path.join(output_dir,filename))\n",
    "    labels_file.write(filename + \" original\\n\")\n",
    "#     plt.imshow(img)\n",
    "#     plt.show()\n",
    "    \n",
    "\n",
    "    for i in range(size):\n",
    "\n",
    "        new_img=img.resize((200,160)) \n",
    "        output_filename = f'{os.path.splitext(filename)[0]}_size_{i}.jpg'\n",
    "        new_img.save(os.path.join(output_dir, output_filename))\n",
    "        labels_file.write(output_filename + \" resize\\n\")\n",
    "#         plt.imshow(new_img)\n",
    "#         plt.show()\n",
    "        \n",
    "\n",
    "    \n"
   ]
  },
  {
   "cell_type": "code",
   "execution_count": 10,
   "id": "5be5eb03",
   "metadata": {},
   "outputs": [],
   "source": [
    "import os\n",
    "\n",
    "\n",
    "input_dir = \"images/\"\n",
    "output_dir = \"resized_img/\"\n",
    "\n",
    "size = 3\n",
    "\n",
    "# Create a labels file\n",
    "labels_file = open(os.path.join(output_dir, \"labels.txt\"), \"w\")\n",
    "\n",
    "for filename in os.listdir(input_dir):\n",
    "    img = Image.open(os.path.join(input_dir, filename))\n",
    "    img.save(os.path.join(output_dir, filename))\n",
    "    labels_file.write(filename + \" original\\n\")\n",
    "#     plt.imshow(img)\n",
    "#     plt.show()\n",
    "\n",
    "    for i in range(size):\n",
    "        new_img = img.resize((170, 100))\n",
    "        draw = ImageDraw.Draw(new_img)\n",
    "        box_size = 100  # Size of the bounding box\n",
    "        center_x = new_img.size[0] // 2\n",
    "        center_y = new_img.size[1] // 2\n",
    "        box_coords = (center_x - box_size // 2, center_y - box_size // 2,\n",
    "                      center_x + box_size // 2, center_y + box_size // 2)\n",
    "        draw.rectangle(box_coords, outline=\"red\", width=2)\n",
    "        output_filename = f'{os.path.splitext(filename)[0]}_size_{i}.jpg'\n",
    "        new_img.save(os.path.join(output_dir, output_filename))\n",
    "        labels_file.write(output_filename + \" resize\\n\")\n",
    "#         plt.imshow(new_img)\n",
    "#         plt.show()\n",
    "        \n",
    "labels_file.close()\n"
   ]
  },
  {
   "cell_type": "code",
   "execution_count": null,
   "id": "32d840c1",
   "metadata": {},
   "outputs": [],
   "source": []
  }
 ],
 "metadata": {
  "kernelspec": {
   "display_name": "Python 3 (ipykernel)",
   "language": "python",
   "name": "python3"
  },
  "language_info": {
   "codemirror_mode": {
    "name": "ipython",
    "version": 3
   },
   "file_extension": ".py",
   "mimetype": "text/x-python",
   "name": "python",
   "nbconvert_exporter": "python",
   "pygments_lexer": "ipython3",
   "version": "3.11.2"
  }
 },
 "nbformat": 4,
 "nbformat_minor": 5
}
