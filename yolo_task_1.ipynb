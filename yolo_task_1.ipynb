{
 "cells": [
  {
   "cell_type": "code",
   "execution_count": 1,
   "id": "a89f97c2",
   "metadata": {},
   "outputs": [],
   "source": [
    "import numpy as np\n",
    "import pandas as pd\n",
    "from PIL import Image\n",
    "import cv2\n",
    "import json\n",
    "\n",
    "\n"
   ]
  },
  {
   "cell_type": "code",
   "execution_count": 2,
   "id": "95e80a93",
   "metadata": {},
   "outputs": [],
   "source": [
    "class_names=['cat','dog']\n",
    "with open('cat_dog_annotations.json', 'r') as f:\n",
    "    json_dict = json.load(f)\n"
   ]
  },
  {
   "cell_type": "code",
   "execution_count": 3,
   "id": "a90cb68d",
   "metadata": {},
   "outputs": [
    {
     "data": {
      "text/plain": [
       "dict_keys(['_via_settings', '_via_img_metadata', '_via_attributes'])"
      ]
     },
     "execution_count": 3,
     "metadata": {},
     "output_type": "execute_result"
    }
   ],
   "source": [
    "json_dict.keys()"
   ]
  },
  {
   "cell_type": "code",
   "execution_count": 4,
   "id": "c213cd72",
   "metadata": {},
   "outputs": [],
   "source": [
    "data=json_dict[\"_via_img_metadata\"].values()"
   ]
  },
  {
   "cell_type": "code",
   "execution_count": 5,
   "id": "b98cf1e4",
   "metadata": {},
   "outputs": [
    {
     "name": "stdout",
     "output_type": "stream",
     "text": [
      "annotations_file is appended successfully\n"
     ]
    }
   ],
   "source": [
    "# Process the images and regions\n",
    "annotations = []\n",
    "for image in data:\n",
    "    filename = image[\"filename\"]\n",
    "    width, height = None, None\n",
    "    with Image.open(filename) as img:\n",
    "        width, height = img.size\n",
    "    for region in image[\"regions\"]:\n",
    "        class_name = list(region[\"region_attributes\"][\"class\"].keys())[0]\n",
    "        x, y, w, h = region[\"shape_attributes\"][\"x\"], region[\"shape_attributes\"][\"y\"], region[\"shape_attributes\"][\"width\"], region[\"shape_attributes\"][\"height\"]\n",
    "        center_x = (x + w/2) / width\n",
    "        center_y = (y + h/2) / height\n",
    "        norm_w = w / width\n",
    "        norm_h = h / height\n",
    "        class_id = class_names.index(class_name)\n",
    "        annotations.append(f\"{class_id} {center_x} {center_y} {norm_w} {norm_h}\\n\")\n",
    "print(\"annotations_file is appended successfully\")\n"
   ]
  },
  {
   "cell_type": "code",
   "execution_count": 6,
   "id": "1c19cd8d",
   "metadata": {},
   "outputs": [
    {
     "name": "stdout",
     "output_type": "stream",
     "text": [
      "annotations.txt is created successfully and saved in current directory\n",
      "\n",
      "label.txt is created successfully and saved in current directory\n"
     ]
    }
   ],
   "source": [
    "# Step 5: Save the YOLO formatted annotations and labels\n",
    "with open(\"annotations.txt\", \"w\") as f:\n",
    "    f.writelines(annotations)\n",
    "print(\"annotations.txt is created successfully and saved in current directory\\n\")\n",
    "with open(\"labels.txt\", \"w\") as f:\n",
    "    f.writelines(\"\\n\".join(class_names))\n",
    "print(\"label.txt is created successfully and saved in current directory\")"
   ]
  },
  {
   "cell_type": "code",
   "execution_count": null,
   "id": "35c71905",
   "metadata": {},
   "outputs": [],
   "source": []
  }
 ],
 "metadata": {
  "kernelspec": {
   "display_name": "Python 3 (ipykernel)",
   "language": "python",
   "name": "python3"
  },
  "language_info": {
   "codemirror_mode": {
    "name": "ipython",
    "version": 3
   },
   "file_extension": ".py",
   "mimetype": "text/x-python",
   "name": "python",
   "nbconvert_exporter": "python",
   "pygments_lexer": "ipython3",
   "version": "3.11.2"
  }
 },
 "nbformat": 4,
 "nbformat_minor": 5
}
