{
 "cells": [
  {
   "cell_type": "code",
   "execution_count": 1,
   "id": "0b2548a3",
   "metadata": {},
   "outputs": [],
   "source": [
    "import cv2\n",
    "import os\n"
   ]
  },
  {
   "cell_type": "code",
   "execution_count": null,
   "id": "aac16493",
   "metadata": {},
   "outputs": [],
   "source": [
    "shoe_dir = '/path/to/shoe/images'\n",
    "sandals_dir = '/path/to/sandals/images'\n"
   ]
  }
 ],
 "metadata": {
  "kernelspec": {
   "display_name": "Python 3 (ipykernel)",
   "language": "python",
   "name": "python3"
  },
  "language_info": {
   "codemirror_mode": {
    "name": "ipython",
    "version": 3
   },
   "file_extension": ".py",
   "mimetype": "text/x-python",
   "name": "python",
   "nbconvert_exporter": "python",
   "pygments_lexer": "ipython3",
   "version": "3.11.2"
  }
 },
 "nbformat": 4,
 "nbformat_minor": 5
}
